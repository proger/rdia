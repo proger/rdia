{
 "cells": [
  {
   "cell_type": "code",
   "execution_count": 1,
   "metadata": {},
   "outputs": [],
   "source": [
    "%load_ext autoreload\n",
    "%autoreload 2\n",
    "%load_ext line_profiler"
   ]
  },
  {
   "cell_type": "code",
   "execution_count": 2,
   "metadata": {},
   "outputs": [],
   "source": [
    "import q\n",
    "import torch\n",
    "import matplotlib.pyplot as plt"
   ]
  },
  {
   "cell_type": "code",
   "execution_count": 4,
   "metadata": {},
   "outputs": [
    {
     "name": "stdout",
     "output_type": "stream",
     "text": [
      "int: intrinsically-motivated agent world model divergence\n",
      "ext: extrinsically-motivated agent world model divergence\n",
      "exp int ext\n",
      "0 nan nan\n"
     ]
    }
   ],
   "source": [
    "gamma = 0.9  # Discount factor\n",
    "beta = 0.5  # Learning rate\n",
    "mu = 0.1  # Exploration probability\n",
    "\n",
    "env = q.Environment()\n",
    "agent_e = q.Agent(env.n_states, env.n_actions, gamma, beta, mu)\n",
    "agent_i = q.Agent(env.n_states, env.n_actions, gamma, beta, mu)\n",
    "\n",
    "print('int: intrinsically-motivated agent world model divergence')\n",
    "print('ext: extrinsically-motivated agent world model divergence')\n",
    "print('exp int ext')\n",
    "\n",
    "num_experiments = 131072\n",
    "for exp in range(num_experiments):\n",
    "    q.train(agent_i, env, reward_kind='prob_diff')\n",
    "    q.train(agent_e, env, reward_kind='env')\n",
    "    if exp % 1024 == 0:\n",
    "        intrinsic_kl = ((env.transitions+1e-8) * ((env.transitions+1e-8).log() - (agent_i.counter/agent_i.counter.sum(-1) + 1e-8).log())).sum()\n",
    "        extrinsic_kl = ((env.transitions+1e-8) * ((env.transitions+1e-8).log() - (agent_e.counter/agent_e.counter.sum(-1) + 1e-8).log())).sum()\n",
    "        print(exp, f'{intrinsic_kl.item():.3f}', f'{extrinsic_kl.item():.3f}')\n",
    "\n",
    "fig, (axl,axr) = plt.subplots(1, 2, figsize=(10, 5))\n",
    "axl.matshow(agent_i.q_values)\n",
    "axr.matshow(agent_e.q_values)"
   ]
  },
  {
   "cell_type": "code",
   "execution_count": null,
   "metadata": {},
   "outputs": [],
   "source": [
    "#%lprun -m q q.train(agent_i, env, reward_kind='prob_diff')"
   ]
  }
 ],
 "metadata": {
  "kernelspec": {
   "display_name": "Python 3",
   "language": "python",
   "name": "python3"
  },
  "language_info": {
   "codemirror_mode": {
    "name": "ipython",
    "version": 3
   },
   "file_extension": ".py",
   "mimetype": "text/x-python",
   "name": "python",
   "nbconvert_exporter": "python",
   "pygments_lexer": "ipython3",
   "version": "3.10.12"
  },
  "orig_nbformat": 4
 },
 "nbformat": 4,
 "nbformat_minor": 2
}
